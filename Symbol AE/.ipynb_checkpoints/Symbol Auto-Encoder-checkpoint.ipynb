{
 "cells": [
  {
   "cell_type": "code",
   "execution_count": 3,
   "metadata": {},
   "outputs": [],
   "source": [
    "import numpy as np\n",
    "import pandas as pd"
   ]
  },
  {
   "cell_type": "code",
   "execution_count": 4,
   "metadata": {},
   "outputs": [
    {
     "name": "stdout",
     "output_type": "stream",
     "text": [
      "(767, 9)\n"
     ]
    }
   ],
   "source": [
    "# Part 1A [Complete]\n",
    "df = pd.read_csv(\"pima-indians-diabetes.csv\")\n",
    "data = df.values\n",
    "\n",
    "print(data.shape)\n",
    "\n",
    "def shuffle_split(data):\n",
    "    shuffled = data.copy()\n",
    "    np.random.shuffle(shuffled)\n",
    "    splitPoint = np.int(shuffled.shape[0] * .8)\n",
    "    return shuffled[:splitPoint], shuffled[splitPoint:]"
   ]
  },
  {
   "cell_type": "code",
   "execution_count": 5,
   "metadata": {},
   "outputs": [
    {
     "name": "stdout",
     "output_type": "stream",
     "text": [
      "----------\n",
      "Avg Accuracy: 0.7201298701298702\n"
     ]
    }
   ],
   "source": [
    "iterations = 10\n",
    "accSum = 0\n",
    "for itr in range(iterations):\n",
    "    \"\"\" Split \"\"\"\n",
    "    train, test = shuffle_split(data)\n",
    "\n",
    "    train_feats = train[:,:-1]\n",
    "    train_labels = train[:,-1]\n",
    "    test_feats = test[:,:-1]\n",
    "    test_labels = test[:,-1]\n",
    "\n",
    "    train_goups = []\n",
    "    labels = np.unique(train_labels)\n",
    "    for label in labels:\n",
    "        train_goups.append(train_feats[np.where(train_labels == label)])\n",
    "\n",
    "    # print(np.shape(train_goups), labels[0], train_goups[0].shape, labels[1], train_goups[1].shape)\n",
    "\n",
    "    \"\"\" 'Train' \"\"\"\n",
    "    mu = np.zeros((labels.shape[0], train_feats.shape[1]))\n",
    "    sigma = np.zeros((labels.shape[0], train_feats.shape[1]))\n",
    "    prob = np.zeros(labels.shape)\n",
    "    for i in range(labels.shape[0]):\n",
    "        mu[i] = np.mean(train_goups[i], axis=0)\n",
    "        sigma[i] = np.std(train_goups[i], axis=0)\n",
    "        prob[i] = (train_labels == labels[i]).sum() / train_labels.shape[0]\n",
    "\n",
    "    # print(mu, sigma, prob)\n",
    "\n",
    "    \"\"\" Predict \"\"\"\n",
    "    preds = np.zeros((2, test_labels.shape[0]))\n",
    "    for i in range(labels.shape[0]):\n",
    "        preds[i] = (-(test_feats - mu[i])**2 / (2*sigma[i]**2)).sum(axis=1) + np.log(prob[i])\n",
    "\n",
    "    accuracy = ((preds[0] < preds[1]) == test_labels).sum() / test_feats.shape[0]\n",
    "#     print(\"Trial %d Accuracy:\" % itr, accuracy)\n",
    "    accSum += accuracy\n",
    "\n",
    "print(\"----------\")\n",
    "print(\"Avg Accuracy:\", accSum / iterations)"
   ]
  },
  {
   "cell_type": "code",
   "execution_count": 6,
   "metadata": {},
   "outputs": [
    {
     "name": "stdout",
     "output_type": "stream",
     "text": [
      "----------\n",
      "Avg Accuracy: 0.7188311688311687\n"
     ]
    }
   ],
   "source": [
    "# Part 1B [Complete]\n",
    "iterations = 10\n",
    "accSum = 0\n",
    "\n",
    "for itr in range(iterations):\n",
    "    \"\"\" Split \"\"\"\n",
    "    train, test = shuffle_split(data)\n",
    "\n",
    "    train_feats = train[:,:-1]\n",
    "    train_labels = train[:,-1]\n",
    "    test_feats = test[:,:-1]\n",
    "    test_labels = test[:,-1]\n",
    "\n",
    "    train_groups = []\n",
    "    labels = np.unique(train_labels)\n",
    "    for label in labels:\n",
    "        train_groups.append(train_feats[np.where(train_labels == label)])\n",
    "\n",
    "    # print(np.shape(train_groups), labels[0], train_groups[0].shape, labels[1], train_groups[1].shape)\n",
    "\n",
    "    \"\"\" 'Train' \"\"\"\n",
    "    mu = np.zeros((labels.shape[0], train_feats.shape[1]))\n",
    "    sigma = np.zeros((labels.shape[0], train_feats.shape[1]))\n",
    "    prob = np.zeros(labels.shape)\n",
    "    for i in range(labels.shape[0]):\n",
    "        mu[i] = np.mean(train_groups[i], axis=0)\n",
    "        sigma[i] = np.std(train_groups[i], axis=0)\n",
    "        prob[i] = (train_labels == labels[i]).sum() / train_labels.shape[0]\n",
    "        \n",
    "        # specific calculations for ignoring zeros in certain categories\n",
    "        for j in [2, 3, 5, 7]:\n",
    "            feat = train_groups[i][:,j]\n",
    "            nzFeat = feat[np.nonzero(feat)]\n",
    "            mu[i, j] = np.mean(nzFeat)\n",
    "            sigma[i, j] = np.std(nzFeat)\n",
    "\n",
    "    # print(mu, sigma, prob)\n",
    "\n",
    "    \"\"\" Predict \"\"\"\n",
    "#     print(test_feats.shape)\n",
    "    preds = np.zeros((2, test_labels.shape[0]))\n",
    "    for i in range(labels.shape[0]):\n",
    "        posteriors = -(test_feats - mu[i])**2 / (2*sigma[i]**2)\n",
    "        # remove calculations missing data\n",
    "        for j in range(posteriors.shape[0]):\n",
    "            for k in [2,3,5,7]:\n",
    "                if test_feats[j,k] == 0:\n",
    "                    posteriors[j,k] = 0\n",
    "        preds[i] = posteriors.sum(axis=1) + np.log(prob[i])\n",
    "\n",
    "    accuracy = ((preds[0] < preds[1]) == test_labels).sum() / test_feats.shape[0]\n",
    "#     print(\"Trial %d Accuracy:\" % itr, accuracy)\n",
    "    accSum += accuracy\n",
    "\n",
    "print(\"----------\")\n",
    "print(\"Avg Accuracy:\", accSum / iterations)"
   ]
  },
  {
   "cell_type": "code",
   "execution_count": 10,
   "metadata": {},
   "outputs": [],
   "source": [
    "# Problem 2\n",
    "from mnist import MNIST\n",
    "import matplotlib.pyplot as plt"
   ]
  },
  {
   "cell_type": "code",
   "execution_count": 35,
   "metadata": {},
   "outputs": [],
   "source": [
    "mndata = MNIST('python-mnist/data')\n",
    "train_images, train_labels = mndata.load_training()\n",
    "test_images, test_labels = mndata.load_testing()"
   ]
  },
  {
   "cell_type": "code",
   "execution_count": 129,
   "metadata": {},
   "outputs": [
    {
     "name": "stdout",
     "output_type": "stream",
     "text": [
      "(60000, 784) (60000,) (10000, 784) (10000,)\n",
      "(10, 784) (10, 784) (10,)\n",
      "0.8169\n"
     ]
    }
   ],
   "source": [
    "train_feats = np.array(images)\n",
    "train_labels = np.array(train_labels)\n",
    "test_feats = np.array(test_images)\n",
    "test_labels = np.array(test_labels)\n",
    "\n",
    "print(train_feats.shape, train_labels.shape, test_feats.shape, test_labels.shape)\n",
    "\n",
    "train_groups = []\n",
    "labels = np.unique(train_labels)\n",
    "for label in labels:\n",
    "    train_groups.append(train_feats[np.where(train_labels == label)])\n",
    "\n",
    "# print(np.shape(train_groups), labels[0], train_groups[0].shape, labels[1], train_groups[1].shape)\n",
    "\n",
    "\"\"\" 'Train' \"\"\"\n",
    "mu = np.zeros((labels.shape[0], train_feats.shape[1]))\n",
    "sigma = np.zeros((labels.shape[0], train_feats.shape[1]))\n",
    "prob = np.zeros(labels.shape)\n",
    "print(mu.shape, sigma.shape, prob.shape)\n",
    "for i in range(labels.shape[0]):\n",
    "    mu[i] = np.mean(train_groups[i], axis=0)\n",
    "    sigma[i] = np.std(train_groups[i], axis=0)\n",
    "    prob[i] = (train_labels == labels[i]).sum() / train_labels.shape[0]\n",
    "\n",
    "    # specific calculations for ignoring zeros in certain categories\n",
    "#     for j in [2, 3, 5, 7]:\n",
    "#         feat = train_groups[i][:,j]\n",
    "#         nzFeat = feat[np.nonzero(feat)]\n",
    "#         mu[i, j] = np.mean(nzFeat)\n",
    "#         sigma[i, j] = np.std(nzFeat)\n",
    "\n",
    "\"\"\" Predict \"\"\"\n",
    "preds = np.zeros((labels.shape[0], test_labels.shape[0]))\n",
    "for i in range(labels.shape[0]):\n",
    "    with np.errstate(divide='ignore',invalid='ignore'): # because they are actually ignored\n",
    "        posteriors = np.where(sigma[i] != 0, -(test_feats - mu[i])**2 / (2*sigma[i]**2), 0)\n",
    "    preds[i] = posteriors.sum(axis=1) + np.log(prob[i])\n",
    "\n",
    "accuracy = (np.argmax(preds, axis=0) == test_labels).sum() / test_feats.shape[0]\n",
    "print(accuracy)"
   ]
  },
  {
   "cell_type": "code",
   "execution_count": 130,
   "metadata": {},
   "outputs": [
    {
     "data": {
      "text/plain": [
       "<matplotlib.image.AxesImage at 0x1cc3bace2b0>"
      ]
     },
     "execution_count": 130,
     "metadata": {},
     "output_type": "execute_result"
    },
    {
     "data": {
      "image/png": "[encoded data removed]",
      "text/plain": [
       "<Figure size 432x288 with 1 Axes>"
      ]
     },
     "metadata": {},
     "output_type": "display_data"
    }
   ],
   "source": [
    "# rands = np.random.randn(28,28)\n",
    "# plt.imshow(rands * np.sqrt(sigma[3].reshape(28,28)) + mu[3].reshape(28,28),cmap=\"Greys\")\n",
    "plt.imshow(mu[3].reshape(28,28),cmap=\"Greys\")"
   ]
  },
  {
   "cell_type": "code",
   "execution_count": null,
   "metadata": {},
   "outputs": [],
   "source": []
  }
 ],
 "metadata": {
  "kernelspec": {
   "display_name": "Python 3",
   "language": "python",
   "name": "python3"
  },
  "language_info": {
   "codemirror_mode": {
    "name": "ipython",
    "version": 3
   },
   "file_extension": ".py",
   "mimetype": "text/x-python",
   "name": "python",
   "nbconvert_exporter": "python",
   "pygments_lexer": "ipython3",
   "version": "3.6.5"
  }
 },
 "nbformat": 4,
 "nbformat_minor": 2
}
